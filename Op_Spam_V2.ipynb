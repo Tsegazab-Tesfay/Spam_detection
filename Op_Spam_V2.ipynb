{
 "cells": [
  {
   "cell_type": "markdown",
   "metadata": {},
   "source": [
    "## <u>Introduction</u>"
   ]
  },
  {
   "cell_type": "markdown",
   "metadata": {},
   "source": [
    "We are using data-set from https://myleott.com/op-spam. And the discription of the given data is as follows:-\n",
    "* 400 truthful positive reviews from TripAdvisor (described in [1])\n",
    "* 400 deceptive positive reviews from Mechanical Turk (described in [1])\n",
    "* 400 truthful negative reviews from Expedia, Hotels.com, Orbitz, Priceline, TripAdvisor and Yelp (described in [2])\n",
    "* 400 deceptive negative reviews from Mechanical Turk (described in [2])\n",
    "\n",
    "## <u>Main sub-tasks our process will consist</u>\n",
    "\n",
    "This project can be compared to a research process where we look at which machine learning models and which information in the reviews is most reliable for producing the required task which is again detecting spam.\n",
    "\n",
    "* Cleaning and preparation of each review we retrieve from the given folders.\n",
    "* Introducing machine learning models\n",
    "* Implimentation and testing of models\n"
   ]
  },
  {
   "cell_type": "markdown",
   "metadata": {},
   "source": [
    "## <u>Supervised Learning</u>"
   ]
  },
  {
   "cell_type": "markdown",
   "metadata": {},
   "source": [
    "Based on the first meeting with our mentor, Rahul and our own research it has been a desire to use supervised machine learning in this project. This type of machine learning is often used for automatic detection and involves training a machine learning model with large amounts of data that is also marked with a correct description of what the data contains, like ours. Here we can come up with many examples and to mention one of them we could give a model thousands of pictures of dogs and cats, along with a label for each picture that said whether it is was a dog or a cat. During the training process, the model will constantly try to guess the content of the pictures and improve based on whether it guessed right or wrong.\n",
    "<br>\n",
    "In other words, each review we use to train the model must be marked with deceptive/truthful so that we can get the model to learn from.\n"
   ]
  },
  {
   "cell_type": "markdown",
   "metadata": {},
   "source": [
    "## <u>Importing libraries</u>"
   ]
  },
  {
   "cell_type": "code",
   "execution_count": 2,
   "metadata": {},
   "outputs": [],
   "source": [
    "from sklearn.model_selection import train_test_split\n",
    "from sklearn.feature_extraction.text import CountVectorizer\n",
    "from sklearn import svm\n",
    "from sklearn.model_selection import GridSearchCV\n",
    "from sklearn.metrics import classification_report\n",
    "from sklearn.svm import SVC\n",
    "from sklearn.tree import DecisionTreeClassifier\n",
    "from sklearn.linear_model import LogisticRegression\n",
    "from sklearn.model_selection import RepeatedStratifiedKFold\n",
    "\n",
    "\n",
    "import tensorflow as tf\n",
    "from sklearn.feature_extraction.text import TfidfVectorizer\n",
    "from sklearn.utils import class_weight\n",
    "from sklearn.metrics import classification_report\n",
    "from sklearn.feature_selection import SelectKBest\n",
    "from sklearn.feature_selection import f_classif\n",
    "from tensorflow.python.keras import models\n",
    "from tensorflow.python.keras.layers import Dense\n",
    "from tensorflow.python.keras.layers import Dropout\n"
   ]
  },
  {
   "cell_type": "code",
   "execution_count": 3,
   "metadata": {},
   "outputs": [
    {
     "name": "stderr",
     "output_type": "stream",
     "text": [
      "[nltk_data] Downloading package stopwords to\n",
      "[nltk_data]     /Users/tsegazabtesfay/nltk_data...\n",
      "[nltk_data]   Package stopwords is already up-to-date!\n"
     ]
    }
   ],
   "source": [
    "import os\n",
    "import numpy as np\n",
    "import pandas as pd\n",
    "from os import walk\n",
    "from os import listdir\n",
    "from os.path import isfile, join\n",
    "import matplotlib.pyplot as plt\n",
    "from IPython.display import Image\n",
    "import nltk\n",
    "nltk.download(\"stopwords\")\n",
    "import spacy\n",
    "from nltk.corpus import stopwords as nltk_stop\n",
    "from nltk import word_tokenize\n"
   ]
  },
  {
   "cell_type": "markdown",
   "metadata": {},
   "source": [
    "#### <div class=\"alert alert-info\">We started by making a function for retrieval data-sets</div>"
   ]
  },
  {
   "cell_type": "code",
   "execution_count": 4,
   "metadata": {},
   "outputs": [],
   "source": [
    "# Paths for a given folder\n",
    "d = [\"./op_spam_v1.4/negative_polarity/deceptive_from_MTurk\",\n",
    "     \"./op_spam_v1.4/negative_polarity/truthful_from_Web\",\n",
    "     \"./op_spam_v1.4/positive_polarity/deceptive_from_MTurk\",\n",
    "     \"./op_spam_v1.4/positive_polarity/truthful_from_TripAdvisor\"]\n",
    "\n",
    "def readDataSet(data):\n",
    "    \"\"\"\n",
    "    param : list of paths \n",
    "    \"\"\"\n",
    "    opinions = []\n",
    "    for mypath in data:\n",
    "        for (dirpath, dirnames, filenames) in walk(mypath):\n",
    "            i = 0\n",
    "            for f in listdir(dirpath):\n",
    "                if isfile(join(dirpath, f)):\n",
    "                    i+=1\n",
    "                    ff = f.split('_')\n",
    "                    file = open(dirpath+'/'+f,\"r\")\n",
    "                    opinion = file.read()\n",
    "                    file.close()\n",
    "                    if(mypath.endswith(\"negative_polarity/deceptive_from_MTurk\") ):\n",
    "                        opinions.append(['deceptive','negative','MTurk',ff[1],opinion])\n",
    "                    elif(mypath.endswith(\"negative_polarity/truthful_from_Web\")):\n",
    "                        opinions.append(['truthful','negative','Web',ff[1],opinion])\n",
    "                    elif(mypath.endswith(\"positive_polarity/deceptive_from_MTurk\")):\n",
    "                        opinions.append(['deceptive','positive','MTurk',ff[1],opinion])\n",
    "                    else:\n",
    "                        opinions.append(['truthful','positive','TripAdvisor',ff[1],opinion])\n",
    "    return opinions\n",
    "r = readDataSet(d)    "
   ]
  },
  {
   "cell_type": "code",
   "execution_count": 5,
   "metadata": {},
   "outputs": [],
   "source": [
    "# arranging as a dataframe \n",
    "df = pd.DataFrame(r, columns=['classification', 'polarity','source', 'hotel', 'review'])\n"
   ]
  },
  {
   "cell_type": "code",
   "execution_count": 6,
   "metadata": {},
   "outputs": [
    {
     "data": {
      "text/html": [
       "<div>\n",
       "<style scoped>\n",
       "    .dataframe tbody tr th:only-of-type {\n",
       "        vertical-align: middle;\n",
       "    }\n",
       "\n",
       "    .dataframe tbody tr th {\n",
       "        vertical-align: top;\n",
       "    }\n",
       "\n",
       "    .dataframe thead th {\n",
       "        text-align: right;\n",
       "    }\n",
       "</style>\n",
       "<table border=\"1\" class=\"dataframe\">\n",
       "  <thead>\n",
       "    <tr style=\"text-align: right;\">\n",
       "      <th></th>\n",
       "      <th>classification</th>\n",
       "      <th>polarity</th>\n",
       "      <th>source</th>\n",
       "      <th>hotel</th>\n",
       "      <th>review</th>\n",
       "    </tr>\n",
       "  </thead>\n",
       "  <tbody>\n",
       "    <tr>\n",
       "      <th>0</th>\n",
       "      <td>deceptive</td>\n",
       "      <td>negative</td>\n",
       "      <td>MTurk</td>\n",
       "      <td>talbott</td>\n",
       "      <td>The Talbott Hotel claims to be Chicago's Premi...</td>\n",
       "    </tr>\n",
       "    <tr>\n",
       "      <th>1</th>\n",
       "      <td>deceptive</td>\n",
       "      <td>negative</td>\n",
       "      <td>MTurk</td>\n",
       "      <td>talbott</td>\n",
       "      <td>I selected The Talbott for my recent family va...</td>\n",
       "    </tr>\n",
       "    <tr>\n",
       "      <th>2</th>\n",
       "      <td>deceptive</td>\n",
       "      <td>negative</td>\n",
       "      <td>MTurk</td>\n",
       "      <td>affinia</td>\n",
       "      <td>I recently stayed at the Affinia Hotel in Chic...</td>\n",
       "    </tr>\n",
       "    <tr>\n",
       "      <th>3</th>\n",
       "      <td>deceptive</td>\n",
       "      <td>negative</td>\n",
       "      <td>MTurk</td>\n",
       "      <td>hardrock</td>\n",
       "      <td>My husband and I stayed here at the Hard Rock ...</td>\n",
       "    </tr>\n",
       "    <tr>\n",
       "      <th>4</th>\n",
       "      <td>deceptive</td>\n",
       "      <td>negative</td>\n",
       "      <td>MTurk</td>\n",
       "      <td>hardrock</td>\n",
       "      <td>I stayed at the Hard Rock Hotel in Chicago rec...</td>\n",
       "    </tr>\n",
       "  </tbody>\n",
       "</table>\n",
       "</div>"
      ],
      "text/plain": [
       "  classification  polarity source     hotel  \\\n",
       "0      deceptive  negative  MTurk   talbott   \n",
       "1      deceptive  negative  MTurk   talbott   \n",
       "2      deceptive  negative  MTurk   affinia   \n",
       "3      deceptive  negative  MTurk  hardrock   \n",
       "4      deceptive  negative  MTurk  hardrock   \n",
       "\n",
       "                                              review  \n",
       "0  The Talbott Hotel claims to be Chicago's Premi...  \n",
       "1  I selected The Talbott for my recent family va...  \n",
       "2  I recently stayed at the Affinia Hotel in Chic...  \n",
       "3  My husband and I stayed here at the Hard Rock ...  \n",
       "4  I stayed at the Hard Rock Hotel in Chicago rec...  "
      ]
     },
     "execution_count": 6,
     "metadata": {},
     "output_type": "execute_result"
    }
   ],
   "source": [
    "df.head()"
   ]
  },
  {
   "cell_type": "markdown",
   "metadata": {},
   "source": [
    "#### Observation\n",
    "<div class=\"alert alert-warning\">\n",
    "Saving to csv-format for availability from any pc reason, i.e avoiding worrying about the path of folders during runing the <code>readDataSet</code> function.\n",
    "</div>"
   ]
  },
  {
   "cell_type": "code",
   "execution_count": 4,
   "metadata": {},
   "outputs": [],
   "source": [
    "# Save as csv-format\n",
    "write_path = \"Op_spam.csv\"\n",
    "df.to_csv(path_or_buf=write_path, sep=';')"
   ]
  },
  {
   "cell_type": "code",
   "execution_count": 217,
   "metadata": {},
   "outputs": [],
   "source": [
    "path = \"./Op_spam.csv\"\n",
    "data = pd.read_csv(path, delimiter=\";\")\n",
    "d_copy = data.copy() # prefer to use copy for keeping the original as it is.\n"
   ]
  },
  {
   "cell_type": "code",
   "execution_count": 218,
   "metadata": {},
   "outputs": [],
   "source": [
    "d_copy = pd.DataFrame(d_copy, columns=[\"index\", \"classification\", \"polarity\", \"source\", \"hotel\", \"review\"])\n",
    "d_copy[\"index\"] = np.arange(0, len(d_copy))\n"
   ]
  },
  {
   "cell_type": "code",
   "execution_count": 219,
   "metadata": {},
   "outputs": [
    {
     "data": {
      "text/plain": [
       "array(['MTurk', 'Web', 'TripAdvisor'], dtype=object)"
      ]
     },
     "execution_count": 219,
     "metadata": {},
     "output_type": "execute_result"
    }
   ],
   "source": [
    "d_copy[\"source\"].unique()"
   ]
  },
  {
   "cell_type": "markdown",
   "metadata": {},
   "source": [
    "## <u>Exploration of reviews and analysis</u>"
   ]
  },
  {
   "cell_type": "markdown",
   "metadata": {},
   "source": [
    "In this project we have only 1600 reviews which is very small data when one works with machine learning, but we believe it is good enough to show the process which is written at the begning of this file. To explore the reviews, we have used the Python library Pandas in jupyter notebook and jupyter lab.\n",
    "<br>\n",
    "Pandas allows us to load data as tables and offers a number of functions for easy analysis, such as seeing the number of rows and columns, data types, the number of unique values in different columns and so on.\n",
    "</div>"
   ]
  },
  {
   "cell_type": "code",
   "execution_count": 220,
   "metadata": {},
   "outputs": [],
   "source": [
    "# for simplicity sake\n",
    "index = \"index\"\n",
    "classifications = \"classification\"\n",
    "polarities = \"polarity\"\n",
    "sources = \"source\"\n",
    "hotels = \"hotel\"\n",
    "reviews = \"review\""
   ]
  },
  {
   "cell_type": "markdown",
   "metadata": {},
   "source": [
    "<div class=\"alert alert-info\">\n",
    "    Let's start by seeing the external information which are readable from the <code>Op_Spam.csv</code> without going in to the reviews.   \n",
    "</div>"
   ]
  },
  {
   "cell_type": "code",
   "execution_count": 132,
   "metadata": {},
   "outputs": [
    {
     "name": "stdout",
     "output_type": "stream",
     "text": [
      "Total number of hotels:  20 \n",
      "\n",
      "And their names: \n",
      "\n",
      " ['talbott' 'affinia' 'hardrock' 'ambassador' 'intercontinental' 'palmer'\n",
      " 'amalfi' 'allegro' 'swissotel' 'knickerbocker' 'homewood' 'sheraton'\n",
      " 'omni' 'hyatt' 'conrad' 'fairmont' 'sofitel' 'monaco' 'hilton' 'james']\n"
     ]
    }
   ],
   "source": [
    "print(\"Total number of hotels: \",len(d_copy[hotels].unique()), \"\\n\\nAnd their names: \\n\\n\",d_copy[hotels].unique())"
   ]
  },
  {
   "cell_type": "code",
   "execution_count": 133,
   "metadata": {},
   "outputs": [
    {
     "name": "stdout",
     "output_type": "stream",
     "text": [
      "Number of reviews:  1602\n"
     ]
    }
   ],
   "source": [
    "print(\"Number of reviews: \", len(d_copy))"
   ]
  },
  {
   "cell_type": "code",
   "execution_count": 11,
   "metadata": {},
   "outputs": [
    {
     "data": {
      "text/plain": [
       "(1602, 6)"
      ]
     },
     "execution_count": 11,
     "metadata": {},
     "output_type": "execute_result"
    }
   ],
   "source": [
    "#About 1600 reviews and 6 columns. We've made one extra columns called \"index\" for simplicity sake\n",
    "d_copy.shape"
   ]
  },
  {
   "cell_type": "code",
   "execution_count": 12,
   "metadata": {},
   "outputs": [
    {
     "name": "stdout",
     "output_type": "stream",
     "text": [
      "['MTurk' 'Web' 'TripAdvisor']\n"
     ]
    }
   ],
   "source": [
    "# The source for the reviews\n",
    "print(d_copy[sources].unique())"
   ]
  },
  {
   "cell_type": "code",
   "execution_count": 13,
   "metadata": {},
   "outputs": [
    {
     "name": "stdout",
     "output_type": "stream",
     "text": [
      "['deceptive' 'truthful']\n"
     ]
    }
   ],
   "source": [
    "# The classification it has been given\n",
    "print(d_copy[classifications].unique())"
   ]
  },
  {
   "cell_type": "code",
   "execution_count": 14,
   "metadata": {},
   "outputs": [
    {
     "name": "stdout",
     "output_type": "stream",
     "text": [
      "['negative' 'positive']\n"
     ]
    }
   ],
   "source": [
    "# And the polarity given by the reviews provider\n",
    "print(d_copy[polarities].unique())"
   ]
  },
  {
   "cell_type": "code",
   "execution_count": 15,
   "metadata": {},
   "outputs": [
    {
     "data": {
      "text/html": [
       "<div>\n",
       "<style scoped>\n",
       "    .dataframe tbody tr th:only-of-type {\n",
       "        vertical-align: middle;\n",
       "    }\n",
       "\n",
       "    .dataframe tbody tr th {\n",
       "        vertical-align: top;\n",
       "    }\n",
       "\n",
       "    .dataframe thead th {\n",
       "        text-align: right;\n",
       "    }\n",
       "</style>\n",
       "<table border=\"1\" class=\"dataframe\">\n",
       "  <thead>\n",
       "    <tr style=\"text-align: right;\">\n",
       "      <th></th>\n",
       "      <th>index</th>\n",
       "      <th>classification</th>\n",
       "      <th>polarity</th>\n",
       "      <th>source</th>\n",
       "      <th>hotel</th>\n",
       "      <th>review</th>\n",
       "    </tr>\n",
       "  </thead>\n",
       "  <tbody>\n",
       "    <tr>\n",
       "      <th>0</th>\n",
       "      <td>0</td>\n",
       "      <td>deceptive</td>\n",
       "      <td>negative</td>\n",
       "      <td>MTurk</td>\n",
       "      <td>talbott</td>\n",
       "      <td>The Talbott Hotel claims to be Chicago's Premi...</td>\n",
       "    </tr>\n",
       "    <tr>\n",
       "      <th>1</th>\n",
       "      <td>1</td>\n",
       "      <td>deceptive</td>\n",
       "      <td>negative</td>\n",
       "      <td>MTurk</td>\n",
       "      <td>talbott</td>\n",
       "      <td>I selected The Talbott for my recent family va...</td>\n",
       "    </tr>\n",
       "    <tr>\n",
       "      <th>2</th>\n",
       "      <td>2</td>\n",
       "      <td>deceptive</td>\n",
       "      <td>negative</td>\n",
       "      <td>MTurk</td>\n",
       "      <td>affinia</td>\n",
       "      <td>I recently stayed at the Affinia Hotel in Chic...</td>\n",
       "    </tr>\n",
       "    <tr>\n",
       "      <th>3</th>\n",
       "      <td>3</td>\n",
       "      <td>deceptive</td>\n",
       "      <td>negative</td>\n",
       "      <td>MTurk</td>\n",
       "      <td>hardrock</td>\n",
       "      <td>My husband and I stayed here at the Hard Rock ...</td>\n",
       "    </tr>\n",
       "    <tr>\n",
       "      <th>4</th>\n",
       "      <td>4</td>\n",
       "      <td>deceptive</td>\n",
       "      <td>negative</td>\n",
       "      <td>MTurk</td>\n",
       "      <td>hardrock</td>\n",
       "      <td>I stayed at the Hard Rock Hotel in Chicago rec...</td>\n",
       "    </tr>\n",
       "  </tbody>\n",
       "</table>\n",
       "</div>"
      ],
      "text/plain": [
       "   index classification  polarity source     hotel  \\\n",
       "0      0      deceptive  negative  MTurk   talbott   \n",
       "1      1      deceptive  negative  MTurk   talbott   \n",
       "2      2      deceptive  negative  MTurk   affinia   \n",
       "3      3      deceptive  negative  MTurk  hardrock   \n",
       "4      4      deceptive  negative  MTurk  hardrock   \n",
       "\n",
       "                                              review  \n",
       "0  The Talbott Hotel claims to be Chicago's Premi...  \n",
       "1  I selected The Talbott for my recent family va...  \n",
       "2  I recently stayed at the Affinia Hotel in Chic...  \n",
       "3  My husband and I stayed here at the Hard Rock ...  \n",
       "4  I stayed at the Hard Rock Hotel in Chicago rec...  "
      ]
     },
     "execution_count": 15,
     "metadata": {},
     "output_type": "execute_result"
    }
   ],
   "source": [
    "# The first five rows looks like this:\n",
    "d_copy.head()"
   ]
  },
  {
   "cell_type": "code",
   "execution_count": 16,
   "metadata": {},
   "outputs": [
    {
     "name": "stdout",
     "output_type": "stream",
     "text": [
      "The reviews from MTurk 801\n",
      "The reviews from Web 400\n",
      "The reviews from TripAdvisor 401\n"
     ]
    },
    {
     "data": {
      "image/png": "[encoded data removed]",
      "text/plain": [
       "<Figure size 432x288 with 1 Axes>"
      ]
     },
     "metadata": {
      "needs_background": "light"
     },
     "output_type": "display_data"
    }
   ],
   "source": [
    "# Number of reviews from each source\n",
    "fig = plt.figure()\n",
    "ax = fig.add_axes([0,0,1,1])\n",
    "def numberReviewsFromSources():\n",
    "    rev = []\n",
    "    name = []\n",
    "    for source in d_copy[sources].unique():\n",
    "        print(\"The reviews from \" + str(source), d_copy[sources].where(d_copy[sources] == source).count())\n",
    "        rev.append(d_copy[sources].where(d_copy[sources] == source).count())\n",
    "        name.append(source)\n",
    "    ax.bar(name, rev)\n",
    "    plt.title(\"Number of reviews from each sources\".upper(), color=\"b\")\n",
    "    plt.ylabel(\"Number of reviews\")\n",
    "    plt.xlabel(\"Sources\")\n",
    "    plt.grid()\n",
    "    plt.show()\n",
    "numberReviewsFromSources()"
   ]
  },
  {
   "cell_type": "code",
   "execution_count": 331,
   "metadata": {},
   "outputs": [
    {
     "data": {
      "image/png": "[encoded data removed]",
      "text/plain": [
       "<Figure size 576x288 with 1 Axes>"
      ]
     },
     "metadata": {
      "needs_background": "light"
     },
     "output_type": "display_data"
    }
   ],
   "source": [
    "# Number of reviews with positive and negatives from each source\n",
    "fig = plt.figure(figsize=(8,4))\n",
    "ax = fig.add_axes([0,0,1,1])\n",
    "def numberReviewsFromSourcesPositiveNegatives():\n",
    "    sor = d_copy[sources].unique()\n",
    "    s = [\"MTurk_neg\", \"MTurk_pos\", \"Web_neg\", \"Web_pos\", \"TripAdvisor_neg\", \"TripAdvisor_pos\"]\n",
    "    MTurk_neg = 0\n",
    "    MTurk_pos = 0\n",
    "    Web_neg = 0\n",
    "    Web_pos = 0\n",
    "    TripAdvisor_neg = 0\n",
    "    TripAdvisor_pos = 0\n",
    "    \n",
    "    for i in range(len(d_copy)):\n",
    "        if(d_copy[polarities][i] == \"negative\" and d_copy[sources][i] == sor[0]):\n",
    "            MTurk_neg += 1\n",
    "        elif(d_copy[polarities][i] == \"positive\" and d_copy[sources][i] == sor[0]):\n",
    "            MTurk_pos += 1\n",
    "        elif(d_copy[polarities][i] == \"negative\" and d_copy[sources][i] == sor[1]):\n",
    "            Web_neg += 1\n",
    "        elif(d_copy[polarities][i] == \"positive\" and d_copy[sources][i] == sor[1]):\n",
    "            Web_pos += 1\n",
    "        elif(d_copy[polarities][i] == \"negative\" and d_copy[sources][i] == sor[2]):\n",
    "            TripAdvisor_neg += 1\n",
    "        else:\n",
    "            TripAdvisor_pos += 1\n",
    "                \n",
    "    ax.bar(s[0], MTurk_neg, width = 0.2)\n",
    "    ax.bar(s[1], MTurk_pos, width = 0.2)\n",
    "    ax.bar(s[2], Web_neg, width = 0.2)\n",
    "    ax.bar(s[3], Web_pos, width = 0.2)\n",
    "    ax.bar(s[4], TripAdvisor_neg, width = 0.2)\n",
    "    ax.bar(s[5], TripAdvisor_pos, width = 0.2)\n",
    "    plt.title(\"reviews with positive and negatives from each source\".upper(), color=\"b\")\n",
    "    plt.ylabel(\"Number of reviews\", color=\"b\")\n",
    "    plt.xlabel(\"Sources\", color=\"b\")\n",
    "    plt.grid()\n",
    "    plt.show()\n",
    "            \n",
    "numberReviewsFromSourcesPositiveNegatives()"
   ]
  },
  {
   "cell_type": "markdown",
   "metadata": {},
   "source": [
    "#### Observation\n",
    "<div class=\"alert alert-warning\">\n",
    "Here we can see that we don't have any positive review from web source and any negative review from TripAdvisor.\n",
    "</div>"
   ]
  },
  {
   "cell_type": "code",
   "execution_count": 342,
   "metadata": {},
   "outputs": [
    {
     "data": {
      "image/png": "[encoded data removed]",
      "text/plain": [
       "<Figure size 720x288 with 1 Axes>"
      ]
     },
     "metadata": {
      "needs_background": "light"
     },
     "output_type": "display_data"
    }
   ],
   "source": [
    "# The number of reviews from each source - truthful negative/positive and deceptive negative/positve\n",
    "\n",
    "fig = plt.figure(figsize=(10,4))\n",
    "ax = fig.add_axes([0,0,1,1])\n",
    "sorce = d_copy[sources].unique()\n",
    "#'MTurk' 'Web' 'TripAdvisor'\n",
    "pol = d_copy[polarities].unique()\n",
    "# 'negative' 'positive'\n",
    "clas = d_copy[classifications].unique()\n",
    "# 'deceptive' 'truthful'\n",
    "def Opinion():\n",
    "    s = [\"MTurk_neg\", \"MTurk_pos\", \"Web_neg\", \"Web_pos\", \"TripAdvisor_neg\", \"TripAdvisor_pos\"]\n",
    "    MTurk_neg_truthful = 0\n",
    "    MTurk_neg_deceptive = 0\n",
    "    MTurk_pos_truthful = 0\n",
    "    MTurk_pos_deceptive = 0\n",
    "    Web_neg_truthful = 0\n",
    "    Web_neg_deceptive = 0\n",
    "    Web_pos_truthful = 0\n",
    "    Web_pos_deceptive = 0\n",
    "    TripAdvisor_neg_truthful = 0\n",
    "    TripAdvisor_neg_deceptive = 0\n",
    "    TripAdvisor_pos_truthful = 0\n",
    "    TripAdvisor_pos_deceptive = 0\n",
    "    \n",
    "    for i in range(len(d_copy)):\n",
    "        if(d_copy[sources][i] == sorce[0] and d_copy[polarities][i]== pol[0] and d_copy[classifications][i]== clas[0]):\n",
    "            MTurk_neg_deceptive += 1\n",
    "        elif(d_copy[sources][i] == sorce[0] and d_copy[polarities][i]== pol[0] and d_copy[classifications][i]== clas[1]):\n",
    "            MTurk_neg_truthful += 1\n",
    "        elif(d_copy[sources][i] == sorce[0] and d_copy[polarities][i]== pol[1] and d_copy[classifications][i]== clas[0]):\n",
    "            MTurk_pos_deceptive += 1\n",
    "        elif(d_copy[sources][i] == sorce[0] and d_copy[polarities][i]== pol[1] and d_copy[classifications][i]== clas[1]):\n",
    "            MTurk_pos_truthful += 1  \n",
    "            \n",
    "        elif(d_copy[sources][i] == sorce[1] and d_copy[polarities][i]== pol[0] and d_copy[classifications][i]== clas[0]):\n",
    "            Web_neg_deceptive += 1\n",
    "        elif(d_copy[sources][i] == sorce[1] and d_copy[polarities][i]== pol[0] and d_copy[classifications][i]== clas[1]):\n",
    "            Web_neg_truthful += 1\n",
    "        elif(d_copy[sources][i] == sorce[1] and d_copy[polarities][i]== pol[1] and d_copy[classifications][i]== clas[0]):\n",
    "            Web_pos_deceptive += 1\n",
    "        elif(d_copy[sources][i] == sorce[1] and d_copy[polarities][i]== pol[1] and d_copy[classifications][i]== clas[1]):\n",
    "            Web_pos_truthful += 1\n",
    "            \n",
    "        elif(d_copy[sources][i] == sorce[2] and d_copy[polarities][i]== pol[0] and d_copy[classifications][i]== clas[0]):\n",
    "            TripAdvisor_neg_deceptive += 1\n",
    "        elif(d_copy[sources][i] == sorce[2] and d_copy[polarities][i]== pol[0] and d_copy[classifications][i]== clas[1]):\n",
    "            TripAdvisor_neg_truthful += 1\n",
    "        elif(d_copy[sources][i] == sorce[2] and d_copy[polarities][i]== pol[1] and d_copy[classifications][i]== clas[0]):\n",
    "            TripAdvisor_pos_deceptive += 1\n",
    "        else:\n",
    "            TripAdvisor_pos_truthful += 1\n",
    "            \n",
    "    ax.bar(\"MTurk_neg_deceptive\", MTurk_neg_deceptive, width = 0.2)\n",
    "    ax.bar(\"MTurk_neg_truthful\", MTurk_neg_truthful, width = 0.2)\n",
    "    ax.bar(\"MTurk_pos_deceptive\", MTurk_pos_deceptive, width = 0.2)\n",
    "    ax.bar(\"MTurk_pos_truthful\", MTurk_pos_truthful, width = 0.2)\n",
    "    ax.bar(\"Web_neg_deceptive\", Web_neg_deceptive, width = 0.2)\n",
    "    ax.bar(\"Web_neg_truthful\", Web_neg_truthful, width = 0.2)\n",
    "    ax.bar(\"Web_pos_deceptive\", Web_pos_deceptive, width = 0.2)\n",
    "    ax.bar(\"Web_pos_truthful\", Web_pos_truthful, width = 0.2)\n",
    "    ax.bar(\"TripAdvisor_neg_deceptive\", TripAdvisor_neg_deceptive, width = 0.2)\n",
    "    ax.bar(\"TripAdvisor_neg_truthful\", TripAdvisor_neg_truthful, width = 0.2)\n",
    "    ax.bar(\"TripAdvisor_pos_deceptive\", TripAdvisor_pos_deceptive, width = 0.2)\n",
    "    ax.bar(\"TripAdvisor_pos_truthful\", TripAdvisor_pos_truthful, width = 0.2)\n",
    "    plt.xticks(rotation=90)\n",
    "    plt.title(\"reviews from each source - truthful negative/positive and deceptive negative/positve\".upper(), color=\"b\")\n",
    "    plt.ylabel(\"Number of reviews\", color=\"b\")\n",
    "    plt.xlabel(\"Source_Polarity_Classification\", color=\"b\")\n",
    "    plt.show()\n",
    "            \n",
    "Opinion()"
   ]
  },
  {
   "cell_type": "markdown",
   "metadata": {},
   "source": [
    "#### Observation\n",
    "<div class=\"alert alert-warning\">\n",
    "In the above bar-graph we have shown where exactly the deceptive and truthful originated from. And for more explanatory way, we would perform like the picture below.\n",
    "</div>"
   ]
  },
  {
   "cell_type": "code",
   "execution_count": 334,
   "metadata": {},
   "outputs": [
    {
     "data": {
      "image/png": "[encoded data removed]",
      "text/plain": [
       "<IPython.core.display.Image object>"
      ]
     },
     "execution_count": 334,
     "metadata": {
      "image/png": {
       "height": 300,
       "width": 600
      }
     },
     "output_type": "execute_result"
    }
   ],
   "source": [
    "# for more descriptive how the number of reviews classified\n",
    "Image(filename=\"T_D.png\", width=600, height=300)"
   ]
  },
  {
   "cell_type": "markdown",
   "metadata": {},
   "source": [
    "<div class=\"alert alert-info\">\n",
    "    Lets now see a little deeper to the reviews part:\n",
    "</div>"
   ]
  },
  {
   "cell_type": "markdown",
   "metadata": {},
   "source": [
    "## <u>Cleaning data</u>"
   ]
  },
  {
   "cell_type": "markdown",
   "metadata": {},
   "source": [
    "* It may make sense to classify based on keywords, rather than sentence structure and other more complicated elements of the text data. To facilitate models's ability to recognize keywords, we will then clear the english-stopwords and numbers which are stored as a string."
   ]
  },
  {
   "cell_type": "code",
   "execution_count": 174,
   "metadata": {},
   "outputs": [
    {
     "name": "stdout",
     "output_type": "stream",
     "text": [
      "179\n"
     ]
    }
   ],
   "source": [
    "# stop-words we have in english\n",
    "stop_words_list = []\n",
    "# Assuming we only have english words in the reviews\n",
    "stopwords = set(nltk_stop.words(\"english\"))\n",
    "for i in stopwords:\n",
    "    stop_words_list.append(i)\n",
    "print(len(stop_words_list))"
   ]
  },
  {
   "cell_type": "markdown",
   "metadata": {},
   "source": [
    "* => we have about 179 english-stopwords and some examples of them are:"
   ]
  },
  {
   "cell_type": "code",
   "execution_count": 18,
   "metadata": {},
   "outputs": [
    {
     "name": "stdout",
     "output_type": "stream",
     "text": [
      "['ourselves', 'below', 'both', 'm', 'through', 'yourself', 'over', 'my', 'against', \"don't\"]\n"
     ]
    }
   ],
   "source": [
    "print(stop_words_list[:10])"
   ]
  },
  {
   "cell_type": "markdown",
   "metadata": {},
   "source": [
    "* Then clearing out the stopwords and numbers from all the reviews, since we want to avoid as much as confiusing words which can :"
   ]
  },
  {
   "cell_type": "code",
   "execution_count": 175,
   "metadata": {},
   "outputs": [],
   "source": [
    "# clearing stopwords and alnum\n",
    "def clearStopWordsAln():\n",
    "    all_rev_data = []\n",
    "    \n",
    "    for r in d_copy[reviews]:\n",
    "        words = r.split()\n",
    "        new_words = []\n",
    "        for word in words:\n",
    "            w = word.lower()\n",
    "            if((w not in stop_words_list) and (w.isnumeric()==False)):\n",
    "                new_words.append(w)\n",
    "            else:\n",
    "                continue\n",
    "        all_rev_data.append(new_words)\n",
    "        \n",
    "    return all_rev_data\n",
    "\n",
    "all_rev_data = clearStopWordsAln()"
   ]
  },
  {
   "cell_type": "markdown",
   "metadata": {},
   "source": [
    "* We can see the difference on number of all words in reviews before and after the stopwords cleared out."
   ]
  },
  {
   "cell_type": "code",
   "execution_count": 176,
   "metadata": {},
   "outputs": [
    {
     "name": "stdout",
     "output_type": "stream",
     "text": [
      "****************************************************************************************************\n",
      "Original words:  238967\n",
      "Without stopwords & alnum:  120522\n",
      "Difference :  118445\n",
      "1602\n"
     ]
    }
   ],
   "source": [
    "sum_orginal = 0\n",
    "sum_cleaned = 0\n",
    "for i in range(len(d_copy)):\n",
    "    sum_orginal += len(d_copy[reviews][i].split(\" \"))\n",
    "    sum_cleaned += len(all_rev_data[i])\n",
    "print(\"*\"*100)\n",
    "print(\"Original words: \", sum_orginal)\n",
    "print(\"Without stopwords & alnum: \", sum_cleaned)\n",
    "print(\"Difference : \", sum_orginal - sum_cleaned)\n",
    "print(len(all_rev_data))"
   ]
  },
  {
   "cell_type": "markdown",
   "metadata": {},
   "source": [
    "* We can also see the main words listed on x-axis visually and their frequencies. F.ex for index 10"
   ]
  },
  {
   "cell_type": "code",
   "execution_count": 177,
   "metadata": {},
   "outputs": [
    {
     "data": {
      "image/png": "[encoded data removed]",
      "text/plain": [
       "<Figure size 432x288 with 1 Axes>"
      ]
     },
     "metadata": {
      "needs_background": "light"
     },
     "output_type": "display_data"
    },
    {
     "name": "stdout",
     "output_type": "stream",
     "text": [
      "['ambassador', 'east', 'hotel', 'terrible', 'place', 'stay.', 'rooms', 'old', 'dirty', 'though', 'cleaned', 'remodeled', 'years.', 'hotel', 'staff', 'friendly', 'accomodating.', 'waste', 'money', 'crappy', 'old', 'hotel', 'full', 'rude', 'employees.']\n"
     ]
    }
   ],
   "source": [
    "# words has been used in a specific review(index=10)\n",
    "# (i.e words with out stop words)\n",
    "freq = nltk.FreqDist(all_rev_data[10])\n",
    "freq.plot(len(all_rev_data[10]), cumulative=False)\n",
    "plt.show()\n",
    "print((all_rev_data[10]))"
   ]
  },
  {
   "cell_type": "markdown",
   "metadata": {},
   "source": [
    "* Another thing we want to mention is that there are several reviews without including the name of any hotel in them, that might have some influence on training the models we are going to use. To point out on how many of them, we have <code>reviewWithOutHotelName</code> function:"
   ]
  },
  {
   "cell_type": "code",
   "execution_count": 178,
   "metadata": {},
   "outputs": [
    {
     "name": "stdout",
     "output_type": "stream",
     "text": [
      "Reviews withou the name of hotel:  211\n"
     ]
    }
   ],
   "source": [
    "def reviewWithOutHotelName():\n",
    "    count = 0\n",
    "    for r in all_rev_data:\n",
    "        for w in r:\n",
    "            if (w in d_copy[hotels].unique()):\n",
    "                count += 1\n",
    "    print(\"Reviews withou the name of hotel: \",len(d_copy[reviews]) - count)\n",
    "reviewWithOutHotelName()"
   ]
  },
  {
   "cell_type": "markdown",
   "metadata": {},
   "source": [
    "* Here we just pack up again as a normal text to make ready for training the model:"
   ]
  },
  {
   "cell_type": "code",
   "execution_count": 179,
   "metadata": {},
   "outputs": [],
   "source": [
    "reviews_text = []\n",
    "for rev in all_rev_data:\n",
    "    #print(rev)\n",
    "    st = \"\"\n",
    "    for w in rev:\n",
    "        st += w + \" \"\n",
    "    reviews_text.append(st)"
   ]
  },
  {
   "cell_type": "markdown",
   "metadata": {},
   "source": [
    "\n",
    "#### <u>Two classes</u>\n",
    "These classes makes the process formal both for the input as text and output which is the result as a truthful or deceptive.\n"
   ]
  },
  {
   "cell_type": "code",
   "execution_count": 206,
   "metadata": {},
   "outputs": [],
   "source": [
    "class Classifier:\n",
    "    Truthful = \"truthful\".upper()\n",
    "    Falseful = \"deceptive\".upper()\n",
    "class Re:\n",
    "    def __init__(self, classification, polarity, source, hotel, review):\n",
    "        self.classification = classification\n",
    "        self.polarity = polarity\n",
    "        self.source = source\n",
    "        self.hotel = hotel\n",
    "        self.review = review\n",
    "        self.result = self.geter()\n",
    "        \n",
    "    def geter(self):\n",
    "        if(self.classification == \"deceptive\" and (self.polarity == \"negative\" or self.polarity == \"positive\")):\n",
    "            return Classifier.Falseful\n",
    "        if(self.classification == \"truthful\" and(self.polarity == \"negative\" or self.polarity == \"positive\")):\n",
    "            return Classifier.Truthful"
   ]
  },
  {
   "cell_type": "code",
   "execution_count": 207,
   "metadata": {},
   "outputs": [],
   "source": [
    "rs = []\n",
    "for i in range(len(d_copy)):\n",
    "    rs.append(Re(d_copy[\"classification\"][i], d_copy[\"polarity\"][i],\n",
    "                 d_copy[\"source\"][i], d_copy[\"hotel\"][i], reviews_text[i]))"
   ]
  },
  {
   "cell_type": "markdown",
   "metadata": {},
   "source": [
    "## <u>Preparation of data</u>"
   ]
  },
  {
   "cell_type": "markdown",
   "metadata": {},
   "source": [
    "* Lets began with 70% of data for training and the rest for testing."
   ]
  },
  {
   "cell_type": "code",
   "execution_count": 208,
   "metadata": {},
   "outputs": [
    {
     "name": "stdout",
     "output_type": "stream",
     "text": [
      "Number of reviews used for training: 1121\n",
      "Number of reviews used for testing: 481\n"
     ]
    }
   ],
   "source": [
    "training, test = train_test_split(rs, test_size=0.3, random_state=42)\n",
    "print(\"Number of reviews used for training:\", len(training))\n",
    "print(\"Number of reviews used for testing:\",len(test))\n"
   ]
  },
  {
   "cell_type": "code",
   "execution_count": 209,
   "metadata": {},
   "outputs": [],
   "source": [
    "train_x = [x.review for x in training]\n",
    "train_y = [x.result for x in training]\n",
    "\n",
    "test_x = [x.review for x in test]\n",
    "test_y = [x.result for x in test]\n"
   ]
  },
  {
   "cell_type": "markdown",
   "metadata": {},
   "source": [
    "#### Vectorization"
   ]
  },
  {
   "cell_type": "markdown",
   "metadata": {},
   "source": [
    "* Models we are going to use do not accept plain text as input and only work with numbers. Therefore, we had to find a method to represent the reviews as numbers, more specifically as vectors or matrices. There are several ways to do this, but we have mainly used countervectorizer in scikit-learn implementation. <code>We will also show the use \"tf-idf\"</code>, which is another type of wordembedding which is also more popular on some of the models we will pick up.Tf-idf stands for term frequency - inverse document frequency. The algorithm calculates first out a word frequency, \"tf\", for each word in a review and then weight this frequency with a number based on how often the word occurs over all the reviews, \"idf\". The word frequency is just the ratio between the number of occurrences of a word in a review and the total number of words in the same review. The inverse document frequency for one word is the logarithm of the ratio between the number of reviews and the number of reviews that contain the word. The word frequency is weighted by document frequency by multiplying the two numbers together. What we end up with is a number that says how much a word has been used in a text, relative to how often the word is used in all the reviews."
   ]
  },
  {
   "cell_type": "code",
   "execution_count": 182,
   "metadata": {},
   "outputs": [
    {
     "name": "stdout",
     "output_type": "stream",
     "text": [
      "(1121, 7994)\n"
     ]
    }
   ],
   "source": [
    "vectorizer = CountVectorizer()\n",
    "train_x_vectors = vectorizer.fit_transform(train_x)\n",
    "test_x_vectors = vectorizer.transform(test_x) # here we don't need to fit, cause it is a test data\n",
    "print(train_x_vectors.shape)\n"
   ]
  },
  {
   "cell_type": "code",
   "execution_count": null,
   "metadata": {},
   "outputs": [],
   "source": []
  },
  {
   "cell_type": "markdown",
   "metadata": {},
   "source": [
    "## <u>Classification - testing models</u>"
   ]
  },
  {
   "cell_type": "markdown",
   "metadata": {},
   "source": [
    "* 1. MODEL\n",
    "* SVM from sklearn\n",
    "<div class=\"alert alert-info\"></div>"
   ]
  },
  {
   "cell_type": "code",
   "execution_count": 212,
   "metadata": {},
   "outputs": [
    {
     "name": "stdout",
     "output_type": "stream",
     "text": [
      "True solution from csv:  TRUTHFUL\n",
      "Learned svm:  ['TRUTHFUL']\n",
      "***************\n",
      "True solution from csv:  DECEPTIVE\n",
      "Learned svm:  ['DECEPTIVE']\n",
      "***************\n",
      "True solution from csv:  DECEPTIVE\n",
      "Learned svm:  ['DECEPTIVE']\n",
      "***************\n",
      "True solution from csv:  DECEPTIVE\n",
      "Learned svm:  ['TRUTHFUL']\n",
      "***************\n",
      "True solution from csv:  TRUTHFUL\n",
      "Learned svm:  ['TRUTHFUL']\n",
      "***************\n",
      "True solution from csv:  TRUTHFUL\n",
      "Learned svm:  ['DECEPTIVE']\n",
      "***************\n",
      "True solution from csv:  DECEPTIVE\n",
      "Learned svm:  ['TRUTHFUL']\n",
      "***************\n",
      "True solution from csv:  DECEPTIVE\n",
      "Learned svm:  ['DECEPTIVE']\n",
      "***************\n",
      "True solution from csv:  DECEPTIVE\n",
      "Learned svm:  ['DECEPTIVE']\n",
      "***************\n",
      "True solution from csv:  TRUTHFUL\n",
      "Learned svm:  ['TRUTHFUL']\n",
      "***************\n"
     ]
    }
   ],
   "source": [
    "# fiting and predicting svm & prints some sampls, both for the true solution and the predicted ones\n",
    "clf_svm = svm.SVC(kernel=\"rbf\")\n",
    "clf_svm.fit(train_x_vectors, train_y)\n",
    "\n",
    "for i in range(10):\n",
    "    print(\"True solution from csv: \", test_y[i])\n",
    "    print(\"Learned svm: \", clf_svm.predict(test_x_vectors[i]))\n",
    "    print(\"*\"*15)"
   ]
  },
  {
   "cell_type": "code",
   "execution_count": 213,
   "metadata": {},
   "outputs": [
    {
     "name": "stdout",
     "output_type": "stream",
     "text": [
      "0.8752598752598753\n"
     ]
    }
   ],
   "source": [
    "# and see the score of this model\n",
    "print(clf_svm.score(test_x_vectors, test_y))"
   ]
  },
  {
   "cell_type": "markdown",
   "metadata": {},
   "source": [
    "* let's try for better by working on hyperparameter tuning of this model"
   ]
  },
  {
   "cell_type": "code",
   "execution_count": 187,
   "metadata": {},
   "outputs": [
    {
     "name": "stdout",
     "output_type": "stream",
     "text": [
      "0.8752598752598753\n"
     ]
    }
   ],
   "source": [
    "# we start by using standardscaler\n",
    "clf_svm = svm.SVC(gamma=\"scale\")\n",
    "clf_svm.fit(train_x_vectors, train_y)\n",
    "\n",
    "print(clf_svm.score(test_x_vectors, test_y))"
   ]
  },
  {
   "cell_type": "markdown",
   "metadata": {},
   "source": [
    "* Now lets take use of greadsearch by cross-validation to find a better result."
   ]
  },
  {
   "cell_type": "code",
   "execution_count": 188,
   "metadata": {},
   "outputs": [
    {
     "name": "stdout",
     "output_type": "stream",
     "text": [
      "Automatically created module for IPython interactive environment\n",
      "# Tuning hyper-parameters for precision\n",
      "\n"
     ]
    },
    {
     "name": "stderr",
     "output_type": "stream",
     "text": [
      "/Users/tsegazabtesfay/opt/anaconda3/lib/python3.7/site-packages/sklearn/metrics/_classification.py:1221: UndefinedMetricWarning: Precision is ill-defined and being set to 0.0 in labels with no predicted samples. Use `zero_division` parameter to control this behavior.\n",
      "  _warn_prf(average, modifier, msg_start, len(result))\n"
     ]
    },
    {
     "name": "stdout",
     "output_type": "stream",
     "text": [
      "Best parameters set found on development set:\n",
      "\n",
      "{'C': 100, 'gamma': 0.0001, 'kernel': 'rbf'}\n",
      "\n",
      "Grid scores on development set:\n",
      "\n",
      "0.806 (+/-0.033) for {'C': 1, 'gamma': 0.001, 'kernel': 'rbf'}\n",
      "0.252 (+/-0.002) for {'C': 1, 'gamma': 0.0001, 'kernel': 'rbf'}\n",
      "0.845 (+/-0.024) for {'C': 10, 'gamma': 0.001, 'kernel': 'rbf'}\n",
      "0.807 (+/-0.042) for {'C': 10, 'gamma': 0.0001, 'kernel': 'rbf'}\n",
      "0.819 (+/-0.025) for {'C': 100, 'gamma': 0.001, 'kernel': 'rbf'}\n",
      "0.849 (+/-0.022) for {'C': 100, 'gamma': 0.0001, 'kernel': 'rbf'}\n",
      "0.819 (+/-0.022) for {'C': 1000, 'gamma': 0.001, 'kernel': 'rbf'}\n",
      "0.813 (+/-0.032) for {'C': 1000, 'gamma': 0.0001, 'kernel': 'rbf'}\n",
      "0.812 (+/-0.034) for {'C': 1, 'kernel': 'linear'}\n",
      "0.812 (+/-0.034) for {'C': 10, 'kernel': 'linear'}\n",
      "0.812 (+/-0.034) for {'C': 100, 'kernel': 'linear'}\n",
      "0.812 (+/-0.034) for {'C': 1000, 'kernel': 'linear'}\n",
      "\n",
      "Detailed classification report:\n",
      "\n",
      "The model is trained on the full development set.\n",
      "The scores are computed on the full evaluation set.\n",
      "\n",
      "              precision    recall  f1-score   support\n",
      "\n",
      "   DECEPTIVE       0.88      0.89      0.88       237\n",
      "    TRUTHFUL       0.89      0.89      0.89       244\n",
      "\n",
      "    accuracy                           0.89       481\n",
      "   macro avg       0.89      0.89      0.89       481\n",
      "weighted avg       0.89      0.89      0.89       481\n",
      "\n",
      "\n",
      "# Tuning hyper-parameters for recall\n",
      "\n",
      "Best parameters set found on development set:\n",
      "\n",
      "{'C': 100, 'gamma': 0.0001, 'kernel': 'rbf'}\n",
      "\n",
      "Grid scores on development set:\n",
      "\n",
      "0.798 (+/-0.031) for {'C': 1, 'gamma': 0.001, 'kernel': 'rbf'}\n",
      "0.500 (+/-0.000) for {'C': 1, 'gamma': 0.0001, 'kernel': 'rbf'}\n",
      "0.845 (+/-0.024) for {'C': 10, 'gamma': 0.001, 'kernel': 'rbf'}\n",
      "0.796 (+/-0.039) for {'C': 10, 'gamma': 0.0001, 'kernel': 'rbf'}\n",
      "0.817 (+/-0.023) for {'C': 100, 'gamma': 0.001, 'kernel': 'rbf'}\n",
      "0.848 (+/-0.023) for {'C': 100, 'gamma': 0.0001, 'kernel': 'rbf'}\n",
      "0.817 (+/-0.021) for {'C': 1000, 'gamma': 0.001, 'kernel': 'rbf'}\n",
      "0.811 (+/-0.029) for {'C': 1000, 'gamma': 0.0001, 'kernel': 'rbf'}\n",
      "0.810 (+/-0.032) for {'C': 1, 'kernel': 'linear'}\n",
      "0.810 (+/-0.032) for {'C': 10, 'kernel': 'linear'}\n",
      "0.810 (+/-0.032) for {'C': 100, 'kernel': 'linear'}\n",
      "0.810 (+/-0.032) for {'C': 1000, 'kernel': 'linear'}\n",
      "\n",
      "Detailed classification report:\n",
      "\n",
      "The model is trained on the full development set.\n",
      "The scores are computed on the full evaluation set.\n",
      "\n",
      "              precision    recall  f1-score   support\n",
      "\n",
      "   DECEPTIVE       0.88      0.89      0.88       237\n",
      "    TRUTHFUL       0.89      0.89      0.89       244\n",
      "\n",
      "    accuracy                           0.89       481\n",
      "   macro avg       0.89      0.89      0.89       481\n",
      "weighted avg       0.89      0.89      0.89       481\n",
      "\n",
      "\n"
     ]
    }
   ],
   "source": [
    "def testingForGridSearchForSVM():    \n",
    "    print(__doc__)\n",
    "\n",
    "    # Set the parameters by cross-validation\n",
    "    tuned_parameters = [{'kernel': ['rbf'], 'gamma': [1e-3, 1e-4],\n",
    "                         'C': [1, 10, 100, 1000]},\n",
    "                        {'kernel': ['linear'], 'C': [1, 10, 100, 1000]}]\n",
    "    scores = ['precision', 'recall']\n",
    "\n",
    "    for score in scores:\n",
    "        print(\"# Tuning hyper-parameters for %s\" % score)\n",
    "        print()\n",
    "        clf = GridSearchCV(\n",
    "            SVC(), tuned_parameters, scoring = \"%s_macro\" % score\n",
    "        )\n",
    "        clf.fit(train_x_vectors, train_y)\n",
    "\n",
    "        print(\"Best parameters set found on development set:\")\n",
    "        print()\n",
    "        print(clf.best_params_)\n",
    "        print()\n",
    "        print(\"Grid scores on development set:\")\n",
    "        print()\n",
    "        means = clf.cv_results_['mean_test_score']\n",
    "        stds = clf.cv_results_['std_test_score']\n",
    "        for mean, std, params in zip(means, stds, clf.cv_results_['params']):\n",
    "            print(\"%0.3f (+/-%0.03f) for %r\"\n",
    "                  % (mean, std * 2, params))\n",
    "        print()\n",
    "\n",
    "        print(\"Detailed classification report:\")\n",
    "        print()\n",
    "        print(\"The model is trained on the full development set.\")\n",
    "        print(\"The scores are computed on the full evaluation set.\")\n",
    "        print()\n",
    "        y_true, y_pred = test_y, clf.predict(test_x_vectors)\n",
    "        print(classification_report(y_true, y_pred))\n",
    "        print()\n",
    "testingForGridSearchForSVM()"
   ]
  },
  {
   "cell_type": "code",
   "execution_count": null,
   "metadata": {},
   "outputs": [],
   "source": []
  },
  {
   "cell_type": "markdown",
   "metadata": {},
   "source": [
    "#### Observation\n",
    "<div class=\"alert alert-warning\">\n",
    "Here, we have an example of the best parameters would use to come up to 88/89% accuracy. And this accuracy is ok since we have very small data to train the model.\n",
    "</div>"
   ]
  },
  {
   "cell_type": "markdown",
   "metadata": {},
   "source": [
    "2. MODEL\n",
    "* Decision Tree\n",
    "<div class=\"alert alert-info\"></div>"
   ]
  },
  {
   "cell_type": "code",
   "execution_count": 189,
   "metadata": {},
   "outputs": [
    {
     "data": {
      "text/plain": [
       "DecisionTreeClassifier()"
      ]
     },
     "execution_count": 189,
     "metadata": {},
     "output_type": "execute_result"
    }
   ],
   "source": [
    "clf_dec = DecisionTreeClassifier()\n",
    "clf_dec.fit(train_x_vectors, train_y)\n"
   ]
  },
  {
   "cell_type": "code",
   "execution_count": 190,
   "metadata": {},
   "outputs": [
    {
     "name": "stdout",
     "output_type": "stream",
     "text": [
      "Predicted solution:  ['TRUTHFUL']\n",
      "True solution:  DECEPTIVE\n",
      "Predicted solution:  ['TRUTHFUL']\n",
      "True solution:  TRUTHFUL\n",
      "Predicted solution:  ['TRUTHFUL']\n",
      "True solution:  TRUTHFUL\n"
     ]
    }
   ],
   "source": [
    "# See simple result\n",
    "for i in range(3): \n",
    "    print(\"Predicted solution: \",clf_dec.predict(test_x_vectors[i]))\n",
    "    print(\"True solution: \", test_y[i])"
   ]
  },
  {
   "cell_type": "code",
   "execution_count": 191,
   "metadata": {},
   "outputs": [
    {
     "name": "stdout",
     "output_type": "stream",
     "text": [
      "0.6715176715176715\n"
     ]
    }
   ],
   "source": [
    "print(clf_dec.score(test_x_vectors, test_y))"
   ]
  },
  {
   "cell_type": "markdown",
   "metadata": {},
   "source": [
    "#### Observation\n",
    "<div class=\"alert alert-warning\">\n",
    "In decisionTreee we have not performed a gridsearch. The reason is, that we saw the probability of this model give us above 90(i.e above the svm-model result) is low, since we only got 66% at this level and the fact that we have very limted data. Thus, the decision-tree-classifier can not compare to svm.\n",
    "</div>"
   ]
  },
  {
   "cell_type": "markdown",
   "metadata": {},
   "source": [
    "3. MODEL\n",
    "*  Logistic Regression\n",
    "<div class=\"alert alert-info\"></div>"
   ]
  },
  {
   "cell_type": "code",
   "execution_count": 214,
   "metadata": {},
   "outputs": [
    {
     "name": "stdout",
     "output_type": "stream",
     "text": [
      "0.9002079002079002\n"
     ]
    }
   ],
   "source": [
    "clf_lg = LogisticRegression()\n",
    "clf_lg.fit(train_x_vectors, train_y)\n",
    "print(clf_lg.score(test_x_vectors, test_y))"
   ]
  },
  {
   "cell_type": "markdown",
   "metadata": {},
   "source": [
    "* In the above we see that the logistic regression from sklearn with about 90% accuracy, but lets if the model can do better by use of gridsearch..."
   ]
  },
  {
   "cell_type": "code",
   "execution_count": 577,
   "metadata": {},
   "outputs": [
    {
     "name": "stdout",
     "output_type": "stream",
     "text": [
      "Best: 0.845388 using {'C': 0.1, 'penalty': 'l2', 'solver': 'liblinear'}\n",
      "0.835575 (0.034620) with: {'C': 100, 'penalty': 'l2', 'solver': 'newton-cg'}\n",
      "0.835872 (0.034613) with: {'C': 100, 'penalty': 'l2', 'solver': 'lbfgs'}\n",
      "0.835577 (0.034065) with: {'C': 100, 'penalty': 'l2', 'solver': 'liblinear'}\n",
      "0.836473 (0.035163) with: {'C': 10, 'penalty': 'l2', 'solver': 'newton-cg'}\n",
      "0.836473 (0.035163) with: {'C': 10, 'penalty': 'l2', 'solver': 'lbfgs'}\n",
      "0.838253 (0.033992) with: {'C': 10, 'penalty': 'l2', 'solver': 'liblinear'}\n",
      "0.837961 (0.036101) with: {'C': 1.0, 'penalty': 'l2', 'solver': 'newton-cg'}\n",
      "0.837961 (0.036101) with: {'C': 1.0, 'penalty': 'l2', 'solver': 'lbfgs'}\n",
      "0.838556 (0.036918) with: {'C': 1.0, 'penalty': 'l2', 'solver': 'liblinear'}\n",
      "0.843308 (0.029498) with: {'C': 0.1, 'penalty': 'l2', 'solver': 'newton-cg'}\n",
      "0.843308 (0.029498) with: {'C': 0.1, 'penalty': 'l2', 'solver': 'lbfgs'}\n",
      "0.845388 (0.031221) with: {'C': 0.1, 'penalty': 'l2', 'solver': 'liblinear'}\n",
      "0.824265 (0.030654) with: {'C': 0.01, 'penalty': 'l2', 'solver': 'newton-cg'}\n",
      "0.824265 (0.030654) with: {'C': 0.01, 'penalty': 'l2', 'solver': 'lbfgs'}\n",
      "0.827249 (0.038603) with: {'C': 0.01, 'penalty': 'l2', 'solver': 'liblinear'}\n",
      "*****************************************************************************\n",
      "              precision    recall  f1-score   support\n",
      "\n",
      "   DECEPTIVE       0.90      0.89      0.89       237\n",
      "    TRUTHFUL       0.89      0.90      0.90       244\n",
      "\n",
      "    accuracy                           0.89       481\n",
      "   macro avg       0.89      0.89      0.89       481\n",
      "weighted avg       0.89      0.89      0.89       481\n",
      "\n"
     ]
    }
   ],
   "source": [
    "# example of grid searching key hyperparametres for logistic regression\n",
    "\n",
    "def testingForGridsLG():\n",
    "    \n",
    "    # define models and parameters\n",
    "    model = LogisticRegression()\n",
    "    solvers = ['newton-cg', 'lbfgs', 'liblinear']\n",
    "    penalty = ['l2']\n",
    "    c_values = [100, 10, 1.0, 0.1, 0.01]\n",
    "    \n",
    "    # define grid search\n",
    "    grid = dict(solver=solvers,penalty=penalty,C=c_values)\n",
    "    cv = RepeatedStratifiedKFold(n_splits=10, n_repeats=3, random_state=1)\n",
    "    grid_search = GridSearchCV(estimator=model, param_grid=grid, n_jobs=-1, cv=cv, scoring='accuracy',error_score=0)\n",
    "    grid_result = grid_search.fit(train_x_vectors, train_y)\n",
    "    # summarize results\n",
    "    print(\"Best: %f using %s\" % (grid_result.best_score_, grid_result.best_params_))\n",
    "    means = grid_result.cv_results_['mean_test_score']\n",
    "    stds = grid_result.cv_results_['std_test_score']\n",
    "    params = grid_result.cv_results_['params']\n",
    "    for mean, stdev, param in zip(means, stds, params):\n",
    "        print(\"%f (%f) with: %r\" % (mean, stdev, param))\n",
    "        y_true, y_pred = test_y, grid_search.predict(test_x_vectors)\n",
    "    print(\"*\"*77)\n",
    "    print(classification_report(y_true, y_pred))\n",
    "\n",
    "testingForGridsLG()"
   ]
  },
  {
   "cell_type": "markdown",
   "metadata": {},
   "source": [
    "#### Observation\n",
    "<div class=\"alert alert-warning\">\n",
    "We see that the accuracy we are getting is lower than the previous one which is tested by the use of default parameters. In here, we see that we can get the minimum accuracy(assuming with the use of the parameters from <code>testingForGridsLG</code>) but the maximum can be 90 or greater. So the model is comparable with other good models..\n",
    "</div>"
   ]
  },
  {
   "cell_type": "markdown",
   "metadata": {},
   "source": [
    "#. 3.2 MODEL\n",
    "<div class=\"alert alert-info\"> Logistic reg with concern of vocublary and use of tfidf</div>"
   ]
  },
  {
   "cell_type": "code",
   "execution_count": 214,
   "metadata": {},
   "outputs": [],
   "source": [
    "#print(len(d_copy[reviews][:]))\n",
    "#print(len(d_copy[classifications][:]))"
   ]
  },
  {
   "cell_type": "code",
   "execution_count": 142,
   "metadata": {},
   "outputs": [
    {
     "name": "stdout",
     "output_type": "stream",
     "text": [
      "[\"The Ambassador East Hotel is a terrible place to stay. All of the rooms are old and dirty as though they haven't been cleaned or remodeled for years. The hotel staff is not friendly or accomodating. Do not waste your money in this crappy old hotel full of rude employees.\\n\"]\n",
      "****************************************************************************************************\n",
      "{'the': 32, 'ambassador': 2, 'east': 11, 'hotel': 17, 'is': 19, 'terrible': 31, 'place': 25, 'to': 36, 'stay': 30, 'all': 1, 'of': 22, 'rooms': 27, 'are': 4, 'old': 23, 'and': 3, 'dirty': 9, 'as': 5, 'though': 35, 'they': 33, 'haven': 16, 'been': 6, 'cleaned': 7, 'or': 24, 'remodeled': 26, 'for': 13, 'years': 38, 'staff': 29, 'not': 21, 'friendly': 14, 'accomodating': 0, 'do': 10, 'waste': 37, 'your': 39, 'money': 20, 'in': 18, 'this': 34, 'crappy': 8, 'full': 15, 'rude': 28, 'employees': 12}\n",
      "[[1 1 1 1 1 1 1 1 1 1 1 1 1 1 1 1 1 3 1 2 1 2 2 2 2 1 1 1 1 1 1 1 3 1 1 1\n",
      "  1 1 1 1]]\n"
     ]
    }
   ],
   "source": [
    "count = CountVectorizer()\n",
    "docs = ([d_copy[reviews][10]])\n",
    "bag = count.fit_transform(docs)\n",
    "print(docs)\n",
    "print(\"*\"*100)\n",
    "print(count.vocabulary_)\n",
    "print(bag.toarray())"
   ]
  },
  {
   "cell_type": "code",
   "execution_count": 139,
   "metadata": {},
   "outputs": [
    {
     "name": "stdout",
     "output_type": "stream",
     "text": [
      "[[0.12 0.12 0.12 0.12 0.12 0.12 0.12 0.12 0.12 0.12 0.12 0.12 0.12 0.12\n",
      "  0.12 0.12 0.12 0.36 0.12 0.24 0.12 0.24 0.24 0.24 0.24 0.12 0.12 0.12\n",
      "  0.12 0.12 0.12 0.12 0.36 0.12 0.12 0.12 0.12 0.12 0.12 0.12]]\n"
     ]
    }
   ],
   "source": [
    "from sklearn.feature_extraction.text import TfidfTransformer\n",
    "np.set_printoptions(precision=2)\n",
    "tfidf = TfidfTransformer(use_idf=True, norm=\"l2\", smooth_idf=True)\n",
    "print(tfidf.fit_transform(bag).toarray())"
   ]
  },
  {
   "cell_type": "markdown",
   "metadata": {},
   "source": [
    "#### Data Preparation: Preprocessing"
   ]
  },
  {
   "cell_type": "code",
   "execution_count": 127,
   "metadata": {},
   "outputs": [
    {
     "data": {
      "text/plain": [
       "'the talbott hotel claims to be chicago s premiere small luxury hotel after staying there and experiencing the service environment and the hotel in general i can say with confidence that this just isn t true i arrived with rather high expectations due to the claims made by the hotel and some of the reviews posted on their website and i was immediately disappointed no one came to my car to collect my bags and i was forced to lug them inside myself the doorman was polite but failed to even open the door for me leaving me to fend for myself while trying to carry my bags once inside the atmosphere was not what i expected the lighting was poor leaving the lobby dark and it looked like a dingy setting with a glossy veneer in an attempt to hide the degenerate state of the building the carpet looked dirty as if it hadn t been vacuumed or washed in quite some time and up in the corners where the walls met the ceilings there was visible water damage when i arrived at the front desk i was forced to wait over five minutes until someone came out to help me after checking in i went up to my room and was once again disappointed the bed was very uncomfortable and i ran the shower for ten minutes without ever receiving any hot water that night i ordered room service the food took 45 minutes to get to my room and when it finally arrived it was cold the fitness center had a very small selection of machines which caused long lines while waiting to use them i would certainly not recommend this hotel to any of my friends and probably not to my enemies either stay away '"
      ]
     },
     "execution_count": 127,
     "metadata": {},
     "output_type": "execute_result"
    }
   ],
   "source": [
    "import re\n",
    "\n",
    "def preprocessor(rev):\n",
    "    rev =re.sub(\"<[^>]*>\", \"\", rev)\n",
    "    emoticons = re.findall(\"(?::|;|=)(?:-)?(?:\\)|\\(|D|P)\", rev)\n",
    "    rev = re.sub(\"[\\W]+\", \" \", rev.lower()) + \" \".join(emoticons).replace(\"-\", \"\")\n",
    "    return rev\n",
    "preprocessor(d_copy[reviews][0])"
   ]
  },
  {
   "cell_type": "markdown",
   "metadata": {},
   "source": [
    "#### Toknization"
   ]
  },
  {
   "cell_type": "code",
   "execution_count": 128,
   "metadata": {},
   "outputs": [
    {
     "name": "stdout",
     "output_type": "stream",
     "text": [
      "['The', 'Talbott', 'Hotel', 'claims', 'to', 'be', \"Chicago's\", 'Premiere', 'Small', 'Luxury', 'Hotel.', 'After', 'staying', 'there', 'and', 'experiencing', 'the', 'service,', 'environment,', 'and', 'the', 'hotel', 'in', 'general,', 'I', 'can', 'say', 'with', 'confidence', 'that', 'this', 'just', \"isn't\", 'true.', 'I', 'arrived', 'with', 'rather', 'high', 'expectations', 'due', 'to', 'the', 'claims', 'made', 'by', 'the', 'hotel', 'and', 'some', 'of', 'the', 'reviews', 'posted', 'on', 'their', 'website', 'and', 'I', 'was', 'immediately', 'disappointed.', 'No', 'one', 'came', 'to', 'my', 'car', 'to', 'collect', 'my', 'bags', 'and', 'I', 'was', 'forced', 'to', 'lug', 'them', 'inside', 'myself.', 'The', 'doorman', 'was', 'polite', 'but', 'failed', 'to', 'even', 'open', 'the', 'door', 'for', 'me,', 'leaving', 'me', 'to', 'fend', 'for', 'myself', 'while', 'trying', 'to', 'carry', 'my', 'bags.', 'Once', 'inside,', 'the', 'atmosphere', 'was', 'not', 'what', 'I', 'expected.', 'The', 'lighting', 'was', 'poor,', 'leaving', 'the', 'lobby', 'dark', 'and', 'it', 'looked', 'like', 'a', 'dingy', 'setting', 'with', 'a', 'glossy', 'veneer', 'in', 'an', 'attempt', 'to', 'hide', 'the', 'degenerate', 'state', 'of', 'the', 'building.', 'The', 'carpet', 'looked', 'dirty,', 'as', 'if', 'it', \"hadn't\", 'been', 'vacuumed', 'or', 'washed', 'in', 'quite', 'some', 'time,', 'and', 'up', 'in', 'the', 'corners', 'where', 'the', 'walls', 'met', 'the', 'ceilings', 'there', 'was', 'visible', 'water', 'damage.', 'When', 'I', 'arrived', 'at', 'the', 'front', 'desk,', 'I', 'was', 'forced', 'to', 'wait', 'over', 'five', 'minutes', 'until', 'someone', 'came', 'out', 'to', 'help', 'me.', 'After', 'checking', 'in', 'I', 'went', 'up', 'to', 'my', 'room', 'and', 'was', 'once', 'again', 'disappointed.', 'The', 'bed', 'was', 'very', 'uncomfortable', 'and', 'I', 'ran', 'the', 'shower', 'for', 'ten', 'minutes', 'without', 'ever', 'receiving', 'any', 'hot', 'water.', 'That', 'night', 'I', 'ordered', 'room', 'service.', 'The', 'food', 'took', '45', 'minutes', 'to', 'get', 'to', 'my', 'room,', 'and', 'when', 'it', 'finally', 'arrived', 'it', 'was', 'cold.', 'The', 'fitness', 'center', 'had', 'a', 'very', 'small', 'selection', 'of', 'machines', 'which', 'caused', 'long', 'lines', 'while', 'waiting', 'to', 'use', 'them.', 'I', 'would', 'certainly', 'not', 'recommend', 'this', 'hotel', 'to', 'any', 'of', 'my', 'friends,', 'and', 'probably', 'not', 'to', 'my', 'enemies', 'either.', 'Stay', 'away!']\n"
     ]
    }
   ],
   "source": [
    "from nltk.stem.porter import PorterStemmer\n",
    "porter = PorterStemmer()\n",
    "def tokenizer(text):\n",
    "    return text.split()\n",
    "print(tokenizer(d_copy[reviews][0]))"
   ]
  },
  {
   "cell_type": "code",
   "execution_count": 129,
   "metadata": {},
   "outputs": [
    {
     "name": "stdout",
     "output_type": "stream",
     "text": [
      "['the', 'talbott', 'hotel', 'claim', 'to', 'be', \"chicago'\", 'premier', 'small', 'luxuri', 'hotel.', 'after', 'stay', 'there', 'and', 'experienc', 'the', 'service,', 'environment,', 'and', 'the', 'hotel', 'in', 'general,', 'I', 'can', 'say', 'with', 'confid', 'that', 'thi', 'just', \"isn't\", 'true.', 'I', 'arriv', 'with', 'rather', 'high', 'expect', 'due', 'to', 'the', 'claim', 'made', 'by', 'the', 'hotel', 'and', 'some', 'of', 'the', 'review', 'post', 'on', 'their', 'websit', 'and', 'I', 'wa', 'immedi', 'disappointed.', 'No', 'one', 'came', 'to', 'my', 'car', 'to', 'collect', 'my', 'bag', 'and', 'I', 'wa', 'forc', 'to', 'lug', 'them', 'insid', 'myself.', 'the', 'doorman', 'wa', 'polit', 'but', 'fail', 'to', 'even', 'open', 'the', 'door', 'for', 'me,', 'leav', 'me', 'to', 'fend', 'for', 'myself', 'while', 'tri', 'to', 'carri', 'my', 'bags.', 'onc', 'inside,', 'the', 'atmospher', 'wa', 'not', 'what', 'I', 'expected.', 'the', 'light', 'wa', 'poor,', 'leav', 'the', 'lobbi', 'dark', 'and', 'it', 'look', 'like', 'a', 'dingi', 'set', 'with', 'a', 'glossi', 'veneer', 'in', 'an', 'attempt', 'to', 'hide', 'the', 'degener', 'state', 'of', 'the', 'building.', 'the', 'carpet', 'look', 'dirty,', 'as', 'if', 'it', \"hadn't\", 'been', 'vacuum', 'or', 'wash', 'in', 'quit', 'some', 'time,', 'and', 'up', 'in', 'the', 'corner', 'where', 'the', 'wall', 'met', 'the', 'ceil', 'there', 'wa', 'visibl', 'water', 'damage.', 'when', 'I', 'arriv', 'at', 'the', 'front', 'desk,', 'I', 'wa', 'forc', 'to', 'wait', 'over', 'five', 'minut', 'until', 'someon', 'came', 'out', 'to', 'help', 'me.', 'after', 'check', 'in', 'I', 'went', 'up', 'to', 'my', 'room', 'and', 'wa', 'onc', 'again', 'disappointed.', 'the', 'bed', 'wa', 'veri', 'uncomfort', 'and', 'I', 'ran', 'the', 'shower', 'for', 'ten', 'minut', 'without', 'ever', 'receiv', 'ani', 'hot', 'water.', 'that', 'night', 'I', 'order', 'room', 'service.', 'the', 'food', 'took', '45', 'minut', 'to', 'get', 'to', 'my', 'room,', 'and', 'when', 'it', 'final', 'arriv', 'it', 'wa', 'cold.', 'the', 'fit', 'center', 'had', 'a', 'veri', 'small', 'select', 'of', 'machin', 'which', 'caus', 'long', 'line', 'while', 'wait', 'to', 'use', 'them.', 'I', 'would', 'certainli', 'not', 'recommend', 'thi', 'hotel', 'to', 'ani', 'of', 'my', 'friends,', 'and', 'probabl', 'not', 'to', 'my', 'enemi', 'either.', 'stay', 'away!']\n"
     ]
    }
   ],
   "source": [
    "def tokenizer_stemmer(text):\n",
    "    return[porter.stem(word) for word in text.split()]\n",
    "\n",
    "print(tokenizer_stemmer(d_copy[reviews][0]))"
   ]
  },
  {
   "cell_type": "markdown",
   "metadata": {},
   "source": [
    "#### Transform Text Data into TD-IDF Vectors"
   ]
  },
  {
   "cell_type": "code",
   "execution_count": 130,
   "metadata": {},
   "outputs": [],
   "source": [
    "\n",
    "tfidf = TfidfVectorizer(strip_accents=None,\n",
    "                        lowercase=True,\n",
    "                        preprocessor=preprocessor, # defined preprocessor in Data Cleaningtokenizer=tokenizer_stemmer,\n",
    "                        use_idf=True,\n",
    "                        norm=\"l2\",\n",
    "                        smooth_idf=True)"
   ]
  },
  {
   "cell_type": "code",
   "execution_count": 131,
   "metadata": {},
   "outputs": [
    {
     "data": {
      "text/plain": [
       "1602"
      ]
     },
     "execution_count": 131,
     "metadata": {},
     "output_type": "execute_result"
    }
   ],
   "source": [
    "#d_copy[reviews][:]\n",
    "#d_copy[classifications][:]\n",
    "# We don't need to use this for-loops\n",
    "sen = []\n",
    "for i in d_copy[classifications][:]:\n",
    "    if(i == \"deceptive\"):\n",
    "        i = \"0\"\n",
    "        i = int(i)\n",
    "        sen.append(i)\n",
    "    else:\n",
    "        i = \"1\"\n",
    "        i = int(i)\n",
    "        sen.append(i)\n",
    "len(sen)"
   ]
  },
  {
   "cell_type": "code",
   "execution_count": 132,
   "metadata": {},
   "outputs": [
    {
     "name": "stderr",
     "output_type": "stream",
     "text": [
      "[Parallel(n_jobs=-1)]: Using backend LokyBackend with 4 concurrent workers.\n",
      "[Parallel(n_jobs=-1)]: Done   2 out of   5 | elapsed:    5.6s remaining:    8.4s\n",
      "[Parallel(n_jobs=-1)]: Done   5 out of   5 | elapsed:    6.3s finished\n"
     ]
    },
    {
     "data": {
      "text/plain": [
       "LogisticRegressionCV(cv=5, max_iter=300, n_jobs=-1, random_state=0,\n",
       "                     scoring='accuracy', verbose=3)"
      ]
     },
     "execution_count": 132,
     "metadata": {},
     "output_type": "execute_result"
    }
   ],
   "source": [
    "y = sen # the same as d_copy[classifications][:]\n",
    "X = tfidf.fit_transform(d_copy[reviews][:])\n",
    "from sklearn.model_selection import train_test_split\n",
    "from sklearn.linear_model import LogisticRegressionCV # LogisticRegression\n",
    "X_train, X_test, y_train, y_test = train_test_split(X, d_copy[classifications][:], random_state=42, test_size=0.5, shuffle=True)\n",
    "\n",
    "clf = LogisticRegressionCV(cv=5,\n",
    "                           scoring=\"accuracy\",\n",
    "                           random_state=0,\n",
    "                           n_jobs=-1,\n",
    "                           verbose=3,\n",
    "                           max_iter=300)\n",
    "clf.fit(X_train, y_train)\n"
   ]
  },
  {
   "cell_type": "code",
   "execution_count": 133,
   "metadata": {},
   "outputs": [
    {
     "data": {
      "text/plain": [
       "0.8589263420724095"
      ]
     },
     "execution_count": 133,
     "metadata": {},
     "output_type": "execute_result"
    }
   ],
   "source": [
    "clf.score(X_test, y_test)"
   ]
  },
  {
   "cell_type": "code",
   "execution_count": 134,
   "metadata": {},
   "outputs": [
    {
     "name": "stdout",
     "output_type": "stream",
     "text": [
      "['deceptive']\n",
      "['deceptive']\n",
      "['deceptive']\n",
      "['deceptive']\n",
      "['deceptive']\n"
     ]
    }
   ],
   "source": [
    "# Testing our model write some observation comparing to the first logistic-regration\n",
    "for i in range(5):\n",
    "    x = d_copy[reviews][i] # \"This is a worsest movie\"\n",
    "    x = tfidf.transform([x])\n",
    "    print(clf.predict(x))"
   ]
  },
  {
   "cell_type": "code",
   "execution_count": null,
   "metadata": {},
   "outputs": [],
   "source": []
  },
  {
   "cell_type": "markdown",
   "metadata": {},
   "source": [
    "#. 4. MODEL\n",
    "<div class=\"alert alert-info\"></div>"
   ]
  },
  {
   "cell_type": "code",
   "execution_count": 193,
   "metadata": {},
   "outputs": [
    {
     "data": {
      "text/plain": [
       "Index(['index', 'classification', 'polarity', 'source', 'hotel', 'review'], dtype='object')"
      ]
     },
     "execution_count": 193,
     "metadata": {},
     "output_type": "execute_result"
    }
   ],
   "source": [
    "d_copy.columns"
   ]
  },
  {
   "cell_type": "code",
   "execution_count": 194,
   "metadata": {},
   "outputs": [
    {
     "name": "stdout",
     "output_type": "stream",
     "text": [
      "<class 'pandas.core.series.Series'>\n",
      "<class 'pandas.core.series.Series'>\n"
     ]
    },
    {
     "data": {
      "text/plain": [
       "pandas.core.frame.DataFrame"
      ]
     },
     "execution_count": 194,
     "metadata": {},
     "output_type": "execute_result"
    }
   ],
   "source": [
    "print(type(d_copy[classifications]))\n",
    "print(type(d_copy[reviews]))\n",
    "type(d_copy)"
   ]
  },
  {
   "cell_type": "code",
   "execution_count": 195,
   "metadata": {},
   "outputs": [],
   "source": [
    "import sys\n",
    "d2 = []\n",
    "for i in range(len(d_copy[classifications])):\n",
    "    if (d_copy[classifications][i] == \"deceptive\"):\n",
    "        x = 0\n",
    "        d2.append([x, d_copy[reviews][i]])\n",
    "    elif(d_copy[classifications][i] == \"truthful\"):\n",
    "        x = 1\n",
    "        d2.append([x, d_copy[reviews][i]])\n",
    "        "
   ]
  },
  {
   "cell_type": "code",
   "execution_count": 196,
   "metadata": {},
   "outputs": [],
   "source": [
    "df2 = pd.DataFrame(d2, columns=['label','review'])"
   ]
  },
  {
   "cell_type": "code",
   "execution_count": 197,
   "metadata": {},
   "outputs": [
    {
     "data": {
      "text/html": [
       "<div>\n",
       "<style scoped>\n",
       "    .dataframe tbody tr th:only-of-type {\n",
       "        vertical-align: middle;\n",
       "    }\n",
       "\n",
       "    .dataframe tbody tr th {\n",
       "        vertical-align: top;\n",
       "    }\n",
       "\n",
       "    .dataframe thead th {\n",
       "        text-align: right;\n",
       "    }\n",
       "</style>\n",
       "<table border=\"1\" class=\"dataframe\">\n",
       "  <thead>\n",
       "    <tr style=\"text-align: right;\">\n",
       "      <th></th>\n",
       "      <th>label</th>\n",
       "      <th>review</th>\n",
       "    </tr>\n",
       "  </thead>\n",
       "  <tbody>\n",
       "    <tr>\n",
       "      <th>1597</th>\n",
       "      <td>1</td>\n",
       "      <td>This is a great hotel! From the doorman who gr...</td>\n",
       "    </tr>\n",
       "    <tr>\n",
       "      <th>1598</th>\n",
       "      <td>1</td>\n",
       "      <td>I believe I can not describe how amazing was o...</td>\n",
       "    </tr>\n",
       "    <tr>\n",
       "      <th>1599</th>\n",
       "      <td>1</td>\n",
       "      <td>Stayed at the Monaco for a romantic weekend ge...</td>\n",
       "    </tr>\n",
       "    <tr>\n",
       "      <th>1600</th>\n",
       "      <td>1</td>\n",
       "      <td>Our room was on the third floor so there was s...</td>\n",
       "    </tr>\n",
       "    <tr>\n",
       "      <th>1601</th>\n",
       "      <td>1</td>\n",
       "      <td>We stay at Hilton for 4 nights last march. It ...</td>\n",
       "    </tr>\n",
       "  </tbody>\n",
       "</table>\n",
       "</div>"
      ],
      "text/plain": [
       "      label                                             review\n",
       "1597      1  This is a great hotel! From the doorman who gr...\n",
       "1598      1  I believe I can not describe how amazing was o...\n",
       "1599      1  Stayed at the Monaco for a romantic weekend ge...\n",
       "1600      1  Our room was on the third floor so there was s...\n",
       "1601      1  We stay at Hilton for 4 nights last march. It ..."
      ]
     },
     "execution_count": 197,
     "metadata": {},
     "output_type": "execute_result"
    }
   ],
   "source": [
    "df2.tail()"
   ]
  },
  {
   "cell_type": "code",
   "execution_count": 198,
   "metadata": {},
   "outputs": [
    {
     "data": {
      "text/plain": [
       "1602"
      ]
     },
     "execution_count": 198,
     "metadata": {},
     "output_type": "execute_result"
    }
   ],
   "source": [
    "len(df2[\"review\"])"
   ]
  },
  {
   "cell_type": "code",
   "execution_count": 199,
   "metadata": {},
   "outputs": [
    {
     "name": "stdout",
     "output_type": "stream",
     "text": [
      "1121\n",
      "[0 1 1 ... 0 1 0]\n",
      "481\n",
      "481\n"
     ]
    }
   ],
   "source": [
    "# Split lists into training and validation data:\n",
    "train_texts, val_texts, train_labels, val_labels = train_test_split(df2[\"review\"], df2[\"label\"], test_size=0.3,\n",
    "                                                                    random_state=42)\n",
    "# Convert label-lists to numpy for compatibility with keras:\n",
    "train_labels, val_labels = np.array(train_labels), np.array(val_labels)\n"
   ]
  },
  {
   "cell_type": "code",
   "execution_count": 200,
   "metadata": {},
   "outputs": [],
   "source": [
    "vectorizer = TfidfVectorizer(ngram_range = (1, 2), dtype = np.float32, strip_accents = \"unicode\",\n",
    "                            decode_error = \"replace\", analyzer = \"word\", min_df = 2)\n",
    "\n",
    "# Learn vocabulary training texts.\n",
    "x_train = vectorizer.fit_transform(train_texts)\n",
    "\n",
    "# Vectorize validation texts.\n",
    "x_val = vectorizer.transform(val_texts)\n"
   ]
  },
  {
   "cell_type": "code",
   "execution_count": 201,
   "metadata": {},
   "outputs": [],
   "source": [
    "\n",
    "# Select top 'k' of the vectorized features.\n",
    "selector = SelectKBest(f_classif, k=200)\n",
    "\n",
    "# Transform x_train and x_val with top 'k' features and convert to numpy:\n",
    "x_train = selector.fit_transform(x_train, train_labels).astype(\"float32\").toarray()\n",
    "x_val = selector.transform(x_val).astype(\"float32\").toarray()\n"
   ]
  },
  {
   "cell_type": "code",
   "execution_count": 202,
   "metadata": {},
   "outputs": [
    {
     "name": "stdout",
     "output_type": "stream",
     "text": [
      "Model: \"sequential_4\"\n",
      "_________________________________________________________________\n",
      "Layer (type)                 Output Shape              Param #   \n",
      "=================================================================\n",
      "dense_8 (Dense)              (None, 256)               51456     \n",
      "_________________________________________________________________\n",
      "dropout_4 (Dropout)          (None, 256)               0         \n",
      "_________________________________________________________________\n",
      "dense_9 (Dense)              (None, 2)                 514       \n",
      "=================================================================\n",
      "Total params: 51,970\n",
      "Trainable params: 51,970\n",
      "Non-trainable params: 0\n",
      "_________________________________________________________________\n"
     ]
    }
   ],
   "source": [
    "# Create a multilayer-perceptron model:\n",
    "\n",
    "model = models.Sequential()\n",
    "\n",
    "# Input layer and first hidden layer:\n",
    "model.add(Dense(units=256, input_shape=x_train.shape[1:], activation=\"relu\"))\n",
    "\n",
    "# Dropout layer to help prevent overfitting:\n",
    "model.add(Dropout(rate=0.2))\n",
    "\n",
    "# Output layer:\n",
    "model.add(Dense(units=2, activation=\"softmax\"))\n",
    "\n",
    "model.summary()"
   ]
  },
  {
   "cell_type": "code",
   "execution_count": 204,
   "metadata": {},
   "outputs": [
    {
     "name": "stdout",
     "output_type": "stream",
     "text": [
      "Train on 1121 samples, validate on 481 samples\n",
      "Epoch 1/4\n",
      "1121/1121 - 0s - loss: 0.5450 - acc: 0.8769 - val_loss: 0.5340 - val_acc: 0.8482\n",
      "Epoch 2/4\n",
      "1121/1121 - 0s - loss: 0.5010 - acc: 0.8814 - val_loss: 0.4950 - val_acc: 0.8524\n",
      "Epoch 3/4\n",
      "1121/1121 - 0s - loss: 0.4589 - acc: 0.8769 - val_loss: 0.4588 - val_acc: 0.8441\n",
      "Epoch 4/4\n",
      "1121/1121 - 0s - loss: 0.4188 - acc: 0.8840 - val_loss: 0.4273 - val_acc: 0.8420\n",
      "Validation accuracy: 0.8419958353042603, loss: 0.42731001793470796\n"
     ]
    }
   ],
   "source": [
    "\n",
    "# Set final hyperparamaters:\n",
    "learning_rate=1e-3\n",
    "epochs=4\n",
    "batch_size=128\n",
    "loss = \"sparse_categorical_crossentropy\"\n",
    "optimizer = tf.keras.optimizers.Adam(lr=learning_rate)\n",
    "\n",
    "model.compile(optimizer=optimizer, loss=loss, metrics=[\"acc\"])\n",
    "\n",
    "# Create callback for early stopping on validation loss. If the loss does\n",
    "# not decrease in two consecutive tries, stop training.\n",
    "callbacks = [tf.keras.callbacks.EarlyStopping(\n",
    "    monitor=\"val_loss\", patience=2)]\n",
    "\n",
    "# Train and validate model.\n",
    "history = model.fit(\n",
    "        x_train,\n",
    "        train_labels,\n",
    "        epochs=epochs,\n",
    "        callbacks=callbacks,\n",
    "        validation_data=(x_val, val_labels),\n",
    "        verbose=2,  # Logs once per epoch.\n",
    "        batch_size=batch_size)\n",
    "\n",
    "# Print results.\n",
    "history = history.history\n",
    "\n",
    "print(\"Validation accuracy: {acc}, loss: {loss}\".format(acc=history[\"val_acc\"][-1], loss=history[\"val_loss\"][-1]))"
   ]
  },
  {
   "cell_type": "code",
   "execution_count": 205,
   "metadata": {},
   "outputs": [
    {
     "name": "stdout",
     "output_type": "stream",
     "text": [
      "              precision    recall  f1-score   support\n",
      "\n",
      "           0       0.85      0.84      0.84       244\n",
      "           1       0.84      0.84      0.84       237\n",
      "\n",
      "    accuracy                           0.84       481\n",
      "   macro avg       0.84      0.84      0.84       481\n",
      "weighted avg       0.84      0.84      0.84       481\n",
      "\n"
     ]
    }
   ],
   "source": [
    "\n",
    "predictions = model.predict(x_val)\n",
    "\n",
    "pred_labels = [np.argmax(pred) for pred in predictions]\n",
    "\n",
    "print(classification_report(val_labels, pred_labels))"
   ]
  },
  {
   "cell_type": "code",
   "execution_count": null,
   "metadata": {},
   "outputs": [],
   "source": []
  },
  {
   "cell_type": "code",
   "execution_count": null,
   "metadata": {},
   "outputs": [],
   "source": []
  },
  {
   "cell_type": "code",
   "execution_count": 585,
   "metadata": {},
   "outputs": [],
   "source": []
  },
  {
   "cell_type": "code",
   "execution_count": null,
   "metadata": {},
   "outputs": [],
   "source": []
  },
  {
   "cell_type": "markdown",
   "metadata": {},
   "source": [
    "## <h1><center> References</center></h1>"
   ]
  },
  {
   "cell_type": "markdown",
   "metadata": {},
   "source": [
    "[1] https://monkeylearn.com/blog/what-is-tf-idf/\n",
    "\n",
    "[2] https://www.analyticsvidhya.com/blog/2017/06/word-embeddings-count-word2veec/\n",
    "\n",
    "[3] https://scikit-learn.org/stable/modules/generated/sklearn.feature_extraction.text.TfidfVectorizer.html\n",
    "\n",
    "\n",
    "\n",
    "[5]  https://keras.io/api/losses/https://keras.io/api/losses/\n",
    "\n",
    "[6] https://developers.google.com/machine-learning/guides/text-classification/step-4https://developers.google.com/machine-learning/guides/text-classification/step-4"
   ]
  },
  {
   "cell_type": "markdown",
   "metadata": {},
   "source": [
    "#### TensorFlow"
   ]
  },
  {
   "cell_type": "markdown",
   "metadata": {},
   "source": [
    "Tensorflow is an \"open source platform\" developed by Google. It is designed mainly for advanced numerical operations and is the main application for machine and deep learning"
   ]
  },
  {
   "cell_type": "markdown",
   "metadata": {},
   "source": [
    "#### Sklearn"
   ]
  },
  {
   "cell_type": "markdown",
   "metadata": {},
   "source": [
    "Scikit-learn is a free library of software machines for the programming language python. It has various classification, regression and grouping algorithms, including support vector machines."
   ]
  },
  {
   "cell_type": "markdown",
   "metadata": {},
   "source": [
    "#### NLTK"
   ]
  },
  {
   "cell_type": "markdown",
   "metadata": {},
   "source": [
    "Natural Language Toolkit is a package of libraries and programs for symbolic and static natural language processing for English texts written in the programming language Python."
   ]
  },
  {
   "cell_type": "markdown",
   "metadata": {},
   "source": [
    "#### SpaCy"
   ]
  },
  {
   "cell_type": "markdown",
   "metadata": {},
   "source": [
    "SpaCy is an open source program written in the programming languages Python and Cython. It is used for advanced language processing and the lemmatization function of the library."
   ]
  },
  {
   "cell_type": "markdown",
   "metadata": {},
   "source": [
    "#### Pandas"
   ]
  },
  {
   "cell_type": "markdown",
   "metadata": {},
   "source": [
    "Pandas is a software library written for the Python programming language for data manipulation and analysis. In particular, it offers data structures and operations for manipulating numerical tables and time series. We can load data as tables and a number of functions for a simple analysis, such as simple data types."
   ]
  },
  {
   "cell_type": "markdown",
   "metadata": {},
   "source": [
    "#### matplotlib"
   ]
  },
  {
   "cell_type": "markdown",
   "metadata": {},
   "source": [
    "Matplotlib is a plotting library for the Python programming language and the NumPY numeric extension."
   ]
  },
  {
   "cell_type": "markdown",
   "metadata": {},
   "source": [
    "#### Juputer Notebook"
   ]
  },
  {
   "cell_type": "markdown",
   "metadata": {},
   "source": [
    "Jupyter Notebook is an open source IDE that is used to write the code live and share with others. Is also an option to enter the code and run cell by cell and look at the output whether it is desirable or not."
   ]
  },
  {
   "cell_type": "markdown",
   "metadata": {},
   "source": []
  },
  {
   "cell_type": "code",
   "execution_count": null,
   "metadata": {},
   "outputs": [],
   "source": []
  }
 ],
 "metadata": {
  "kernelspec": {
   "display_name": "Python 3",
   "language": "python",
   "name": "python3"
  },
  "language_info": {
   "codemirror_mode": {
    "name": "ipython",
    "version": 3
   },
   "file_extension": ".py",
   "mimetype": "text/x-python",
   "name": "python",
   "nbconvert_exporter": "python",
   "pygments_lexer": "ipython3",
   "version": "3.7.9"
  }
 },
 "nbformat": 4,
 "nbformat_minor": 4
}
